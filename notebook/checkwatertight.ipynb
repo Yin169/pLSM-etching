{
 "cells": [
  {
   "cell_type": "code",
   "execution_count": null,
   "metadata": {},
   "outputs": [],
   "source": [
    "import open3d as o3d\n",
    "\n",
    "mesh = o3d.io.read_triangle_mesh(\"../remote/Silicon_etch.obj\")\n",
    "mesh.compute_vertex_normals()"
   ]
  },
  {
   "cell_type": "code",
   "execution_count": null,
   "metadata": {},
   "outputs": [],
   "source": [
    "mesh.remove_duplicated_vertices()\n",
    "mesh.remove_unreferenced_vertices()\n",
    "mesh.remove_degenerate_triangles()\n",
    "mesh.remove_duplicated_triangles()"
   ]
  },
  {
   "cell_type": "code",
   "execution_count": null,
   "metadata": {},
   "outputs": [],
   "source": [
    "# Sample points from the mesh surface\n",
    "pcd = mesh.sample_points_poisson_disk(number_of_points=50000000)\n",
    "\n",
    "# Create a watertight mesh using Poisson surface reconstruction\n",
    "mesh_watertight, _ = o3d.geometry.TriangleMesh.create_from_point_cloud_poisson(pcd, depth=9)\n"
   ]
  },
  {
   "cell_type": "code",
   "execution_count": null,
   "metadata": {},
   "outputs": [],
   "source": [
    "bbox = mesh.get_axis_aligned_bounding_box()\n",
    "mesh_watertight = mesh_watertight.crop(bbox)\n"
   ]
  },
  {
   "cell_type": "code",
   "execution_count": null,
   "metadata": {},
   "outputs": [],
   "source": [
    "o3d.io.write_triangle_mesh(\"watertight_mesh.obj\", mesh_watertight)"
   ]
  }
 ],
 "metadata": {
  "kernelspec": {
   "display_name": "base",
   "language": "python",
   "name": "python3"
  },
  "language_info": {
   "codemirror_mode": {
    "name": "ipython",
    "version": 3
   },
   "file_extension": ".py",
   "mimetype": "text/x-python",
   "name": "python",
   "nbconvert_exporter": "python",
   "pygments_lexer": "ipython3",
   "version": "3.9.19"
  }
 },
 "nbformat": 4,
 "nbformat_minor": 2
}
