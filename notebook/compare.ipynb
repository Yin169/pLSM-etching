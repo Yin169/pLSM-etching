{
 "cells": [
  {
   "cell_type": "code",
   "execution_count": 1,
   "metadata": {},
   "outputs": [],
   "source": [
    "file1 = \"../remote/Silicon_etch.off\"\n",
    "# file1 = \"../remote/Nitride_etch.obj\"\n",
    "file2 = \"../initial_struct_600_600.obj\""
   ]
  },
  {
   "cell_type": "code",
   "execution_count": null,
   "metadata": {},
   "outputs": [
    {
     "name": "stdout",
     "output_type": "stream",
     "text": [
      "Loading point clouds from OFF files...\n",
      "Computing initial RMS error...\n",
      "Running ICP registration...\n",
      "RMS Before ICP: 11.968453\n",
      "RMS After ICP : 11.968453\n",
      "Visualizing and saving alignment result...\n",
      "\u001b[1;33m[Open3D WARNING] GLFW Error: Cocoa: Failed to find service port for display\u001b[0;m\n",
      "\u001b[1;33m[Open3D WARNING] GLFW Error: Cocoa: Failed to find service port for display\u001b[0;m\n",
      "\u001b[1;33m[Open3D WARNING] GLFW Error: Cocoa: Failed to find service port for display\u001b[0;m\n",
      "\u001b[1;33m[Open3D WARNING] GLFW Error: Cocoa: Failed to find service port for display\u001b[0;m\n",
      "\u001b[1;33m[Open3D WARNING] GLFW Error: Cocoa: Failed to find service port for display\u001b[0;m\n",
      "\u001b[1;33m[Open3D WARNING] GLFW Error: Cocoa: Failed to find service port for display\u001b[0;m\n",
      "Generating report...\n",
      "Done. See 'alignment.png' and 'report.txt'.\n"
     ]
    },
    {
     "ename": "",
     "evalue": "",
     "output_type": "error",
     "traceback": [
      "\u001b[1;31mThe Kernel crashed while executing code in the current cell or a previous cell. \n",
      "\u001b[1;31mPlease review the code in the cell(s) to identify a possible cause of the failure. \n",
      "\u001b[1;31mClick <a href='https://aka.ms/vscodeJupyterKernelCrash'>here</a> for more info. \n",
      "\u001b[1;31mView Jupyter <a href='command:jupyter.viewOutput'>log</a> for further details."
     ]
    }
   ],
   "source": [
    "import open3d as o3d\n",
    "import trimesh\n",
    "import numpy as np\n",
    "import matplotlib.pyplot as plt\n",
    "import os\n",
    "\n",
    "def load_off_as_pointcloud(file_path, num_points=10000):\n",
    "    mesh = trimesh.load(file_path)\n",
    "    sampled_points = mesh.sample(num_points)\n",
    "    pcd = o3d.geometry.PointCloud()\n",
    "    pcd.points = o3d.utility.Vector3dVector(sampled_points)\n",
    "    return pcd\n",
    "\n",
    "def compute_rms(source, target):\n",
    "    distances = source.compute_point_cloud_distance(target)\n",
    "    return np.sqrt(np.mean(np.square(distances)))\n",
    "\n",
    "def run_icp(source, target, threshold=0.05):\n",
    "    trans_init = np.eye(4)\n",
    "    icp_result = o3d.pipelines.registration.registration_icp(\n",
    "        source, target, threshold, trans_init,\n",
    "        o3d.pipelines.registration.TransformationEstimationPointToPoint()\n",
    "    )\n",
    "    return icp_result.transformation, icp_result\n",
    "\n",
    "def visualize_alignment(pcd1, pcd2, transformed_pcd1, save_path=\"alignment.png\"):\n",
    "    pcd1.paint_uniform_color([1, 0, 0])  # red\n",
    "    pcd2.paint_uniform_color([0, 1, 0])  # green\n",
    "    transformed_pcd1.paint_uniform_color([0, 0, 1])  # blue\n",
    "\n",
    "    o3d.visualization.draw_geometries([pcd2, transformed_pcd1])\n",
    "\n",
    "    # Save image\n",
    "    vis = o3d.visualization.Visualizer()\n",
    "    vis.create_window(visible=False)\n",
    "    vis.add_geometry(pcd2)\n",
    "    vis.add_geometry(transformed_pcd1)\n",
    "    vis.poll_events()\n",
    "    vis.update_renderer()\n",
    "    vis.capture_screen_image(save_path)\n",
    "    vis.destroy_window()\n",
    "\n",
    "def generate_report(before_rms, after_rms, save_path=\"report.txt\"):\n",
    "    with open(save_path, 'w') as f:\n",
    "        f.write(\"ICP Alignment Report\\n\")\n",
    "        f.write(\"=====================\\n\")\n",
    "        f.write(f\"RMS Error Before ICP: {before_rms:.6f}\\n\")\n",
    "        f.write(f\"RMS Error After ICP : {after_rms:.6f}\\n\")\n",
    "        f.write(f\"\\nSee 'alignment.png' for visual comparison.\\n\")\n",
    "\n",
    "def main(file1, file2):\n",
    "    print(\"Loading point clouds from OFF files...\")\n",
    "    source = load_off_as_pointcloud(file1)\n",
    "    target = load_off_as_pointcloud(file2)\n",
    "\n",
    "    print(\"Computing initial RMS error...\")\n",
    "    rms_before = compute_rms(source, target)\n",
    "\n",
    "    print(\"Running ICP registration...\")\n",
    "    transformation, icp_result = run_icp(source, target)\n",
    "\n",
    "    transformed_source = source.transform(transformation)\n",
    "    rms_after = compute_rms(source, target)\n",
    "\n",
    "    print(f\"RMS Before ICP: {rms_before:.6f}\")\n",
    "    print(f\"RMS After ICP : {rms_after:.6f}\")\n",
    "\n",
    "    print(\"Visualizing and saving alignment result...\")\n",
    "    visualize_alignment(source, target, source, \"alignment.png\")\n",
    "\n",
    "    print(\"Generating report...\")\n",
    "    generate_report(rms_before, rms_after)\n",
    "\n",
    "    print(\"Done. See 'alignment.png' and 'report.txt'.\")\n",
    "\n",
    "if __name__ == \"__main__\":\n",
    "    # Replace with your actual OFF file paths\n",
    "    main(file1, file2)\n"
   ]
  }
 ],
 "metadata": {
  "kernelspec": {
   "display_name": "base",
   "language": "python",
   "name": "python3"
  },
  "language_info": {
   "codemirror_mode": {
    "name": "ipython",
    "version": 3
   },
   "file_extension": ".py",
   "mimetype": "text/x-python",
   "name": "python",
   "nbconvert_exporter": "python",
   "pygments_lexer": "ipython3",
   "version": "3.9.19"
  }
 },
 "nbformat": 4,
 "nbformat_minor": 2
}
